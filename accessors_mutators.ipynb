{
  "nbformat": 4,
  "nbformat_minor": 0,
  "metadata": {
    "colab": {
      "name": "accessors_mutators.ipynb",
      "provenance": [],
      "authorship_tag": "ABX9TyNwt5cfM7na4aGsn8DT6ZBo",
      "include_colab_link": true
    },
    "kernelspec": {
      "name": "python3",
      "display_name": "Python 3"
    }
  },
  "cells": [
    {
      "cell_type": "markdown",
      "metadata": {
        "id": "view-in-github",
        "colab_type": "text"
      },
      "source": [
        "<a href=\"https://colab.research.google.com/github/Raghavendarlokineni/Python-Tutorials/blob/master/accessors_mutators.ipynb\" target=\"_parent\"><img src=\"https://colab.research.google.com/assets/colab-badge.svg\" alt=\"Open In Colab\"/></a>"
      ]
    },
    {
      "cell_type": "markdown",
      "metadata": {
        "id": "SI6QLAyHYBJS",
        "colab_type": "text"
      },
      "source": [
        "**Setters and Getters**\n",
        "\n",
        "```\n",
        "reference - https://www.python-course.eu/python3_properties.php \n",
        "```\n"
      ]
    },
    {
      "cell_type": "code",
      "metadata": {
        "id": "kXISsmxFYT85",
        "colab_type": "code",
        "colab": {}
      },
      "source": [
        "class P:"
      ],
      "execution_count": 0,
      "outputs": []
    },
    {
      "cell_type": "code",
      "metadata": {
        "id": "hei1t_l1X_dt",
        "colab_type": "code",
        "colab": {}
      },
      "source": [
        ""
      ],
      "execution_count": 0,
      "outputs": []
    }
  ]
}