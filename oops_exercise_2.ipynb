{
  "nbformat": 4,
  "nbformat_minor": 0,
  "metadata": {
    "colab": {
      "name": "oops-exercise-2.ipynb",
      "provenance": [],
      "authorship_tag": "ABX9TyPSCgHadO/DG1TFOT6spZBF",
      "include_colab_link": true
    },
    "kernelspec": {
      "name": "python3",
      "display_name": "Python 3"
    }
  },
  "cells": [
    {
      "cell_type": "markdown",
      "metadata": {
        "id": "view-in-github",
        "colab_type": "text"
      },
      "source": [
        "<a href=\"https://colab.research.google.com/github/Raghavendarlokineni/Python-Tutorials/blob/master/oops_exercise_2.ipynb\" target=\"_parent\"><img src=\"https://colab.research.google.com/assets/colab-badge.svg\" alt=\"Open In Colab\"/></a>"
      ]
    },
    {
      "cell_type": "markdown",
      "metadata": {
        "id": "iY0-t6B2H2Ul",
        "colab_type": "text"
      },
      "source": [
        "## **Pants class**\n",
        "```\n",
        "Write a Pants class with the following characteristics:\n",
        "\n",
        "the class name should be Pants\n",
        "the class attributes should include\n",
        "\n",
        "*   color\n",
        "*   waist_size\n",
        "*   length\n",
        "*   price\n",
        "\n",
        "the class should have an init function that initializes all of the attributes\n",
        "the class should have two methods\n",
        "*   change_price() a method to change the price attribute\n",
        "*   discount() to calculate a discount\n",
        "\n",
        "```"
      ]
    },
    {
      "cell_type": "markdown",
      "metadata": {
        "id": "XPiWuTAcIhgx",
        "colab_type": "text"
      },
      "source": [
        ""
      ]
    },
    {
      "cell_type": "code",
      "metadata": {
        "id": "ab25GxHbHgRo",
        "colab_type": "code",
        "colab": {}
      },
      "source": [
        "class Pants:\n",
        "    \"\"\"\n",
        "    Pants class represents a model in the store\n",
        "    \"\"\"\n",
        "    def __init__(self, color, waist_size, length, price):\n",
        "        \"\"\"\n",
        "        Initializer for Pants objects\n",
        "\n",
        "        Attributes:\n",
        "            color - string \n",
        "            waist_size - string\n",
        "            length - string\n",
        "            price - float\n",
        "        \"\"\"\n",
        "        self.color      = color\n",
        "        self.waist_size = waist_size\n",
        "        self.length     = length\n",
        "        self.price      = price\n",
        "\n",
        "    def change_price(self, new_price):\n",
        "        \"\"\"\n",
        "        method to change the price of pants object\n",
        "\n",
        "        Args:\n",
        "            new_price - float\n",
        "\n",
        "        Returns: None\n",
        "        \"\"\"\n",
        "        self.price = new_price\n",
        "\n",
        "    def discount(self, value):      \n",
        "        \"\"\"\n",
        "        method to calcluate price after discount\n",
        "\n",
        "        Args:\n",
        "            value - float\n",
        "        Returns:\n",
        "            discounted price - float    \n",
        "        \"\"\"\n",
        "        return self.price * (1 - value)  \n"
      ],
      "execution_count": 0,
      "outputs": []
    },
    {
      "cell_type": "markdown",
      "metadata": {
        "id": "VCi00duzJr6G",
        "colab_type": "text"
      },
      "source": [
        "**Run the code cell below to check results**"
      ]
    },
    {
      "cell_type": "code",
      "metadata": {
        "id": "qDndt0s0Jtyj",
        "colab_type": "code",
        "colab": {
          "base_uri": "https://localhost:8080/",
          "height": 35
        },
        "outputId": "f6a63442-e9e6-430e-f675-8af7552f5baf"
      },
      "source": [
        "def check_results():\n",
        "    pants = Pants('red', 35, 36, 15.12)\n",
        "    assert pants.color == 'red'\n",
        "    assert pants.waist_size == 35\n",
        "    assert pants.length == 36\n",
        "    assert pants.price == 15.12\n",
        "    \n",
        "    pants.change_price(10) == 10\n",
        "    assert pants.price == 10 \n",
        "    \n",
        "    assert pants.discount(.1) == 9\n",
        "    \n",
        "    print('You made it to the end of the check. Nice job!')\n",
        "\n",
        "check_results()"
      ],
      "execution_count": 10,
      "outputs": [
        {
          "output_type": "stream",
          "text": [
            "You made it to the end of the check. Nice job!\n"
          ],
          "name": "stdout"
        }
      ]
    },
    {
      "cell_type": "markdown",
      "metadata": {
        "id": "yXQZSwQeLISU",
        "colab_type": "text"
      },
      "source": [
        "**Write a SalesPerson class with the following characteristics:**\n",
        "* the class name should be SalesPerson\n",
        "* the class attributes should include\n",
        "    * first_name\n",
        "    * last_name\n",
        "    * employee_id\n",
        "    * salary\n",
        "    * pants_sold\n",
        "    * total_sales\n",
        "* the class should have an init function that initializes all of the attributes\n",
        "* the class should have four methods\n",
        "    * sell_pants() a method to change the price attribute\n",
        "    * calculate_sales() a method to calculate the sales\n",
        "    * display_sales() a method to print out all the pants sold with nice formatting\n",
        "    * calculate_commission() a method to calculate the salesperson commission based on total sales and a percentage"
      ]
    },
    {
      "cell_type": "code",
      "metadata": {
        "id": "1bbu6DaULUyq",
        "colab_type": "code",
        "colab": {
          "base_uri": "https://localhost:8080/",
          "height": 131
        },
        "outputId": "7034b452-7f7e-4065-ab94-59b7e411b94a"
      },
      "source": [
        "class SalesPerson:\n",
        "    \"\"\"\n",
        "    provides information about the sales person in the store\n",
        "    \"\"\"\n",
        "\n",
        "    def __init__(self, first_name, last_name, employee_id, salary, pants_sold, total_sales):\n",
        "        \"\"\"\n",
        "        Initializer for salesperson object\n",
        "\n",
        "        Attributes:\n",
        "            first_name\n",
        "            last_name\n",
        "            employee_id\n",
        "            salary\n",
        "            pants_sold\n",
        "            total_sales\n",
        "        \"\"\"\n",
        "        self.first_name = first_name\n",
        "        self.last_name = last_name\n",
        "        self.employee_id = employee_id\n",
        "        self.salary = salary \n",
        "        self.pants_sold = pants_sold\n",
        "        self.total_sales = total_sales\n",
        "\n",
        "    def sell_pants():\n",
        "\n",
        "    def calculate_sales():\n",
        "\n",
        "    def display_sales():\n",
        "\n",
        "    def calculate_commission():        "
      ],
      "execution_count": 11,
      "outputs": [
        {
          "output_type": "error",
          "ename": "IndentationError",
          "evalue": "ignored",
          "traceback": [
            "\u001b[0;36m  File \u001b[0;32m\"<ipython-input-11-c9d77d9931a4>\"\u001b[0;36m, line \u001b[0;32m27\u001b[0m\n\u001b[0;31m    def calculate_sales():\u001b[0m\n\u001b[0m      ^\u001b[0m\n\u001b[0;31mIndentationError\u001b[0m\u001b[0;31m:\u001b[0m expected an indented block\n"
          ]
        }
      ]
    }
  ]
}