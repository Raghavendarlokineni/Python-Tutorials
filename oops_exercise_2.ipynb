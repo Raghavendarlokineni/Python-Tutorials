{
  "nbformat": 4,
  "nbformat_minor": 0,
  "metadata": {
    "colab": {
      "name": "oops-exercise-2.ipynb",
      "provenance": [],
      "authorship_tag": "ABX9TyNT1v1B467D5Xyjzts22Ebo",
      "include_colab_link": true
    },
    "kernelspec": {
      "name": "python3",
      "display_name": "Python 3"
    }
  },
  "cells": [
    {
      "cell_type": "markdown",
      "metadata": {
        "id": "view-in-github",
        "colab_type": "text"
      },
      "source": [
        "<a href=\"https://colab.research.google.com/github/Raghavendarlokineni/Python-Tutorials/blob/master/oops_exercise_2.ipynb\" target=\"_parent\"><img src=\"https://colab.research.google.com/assets/colab-badge.svg\" alt=\"Open In Colab\"/></a>"
      ]
    },
    {
      "cell_type": "markdown",
      "metadata": {
        "id": "iY0-t6B2H2Ul",
        "colab_type": "text"
      },
      "source": [
        "## **Pants class**\n",
        "```\n",
        "Write a Pants class with the following characteristics:\n",
        "\n",
        "the class name should be Pants\n",
        "the class attributes should include\n",
        "\n",
        "*   color\n",
        "*   waist_size\n",
        "*   length\n",
        "*   price\n",
        "\n",
        "the class should have an init function that initializes all of the attributes\n",
        "the class should have two methods\n",
        "*   change_price() a method to change the price attribute\n",
        "*   discount() to calculate a discount\n",
        "\n",
        "```"
      ]
    },
    {
      "cell_type": "markdown",
      "metadata": {
        "id": "XPiWuTAcIhgx",
        "colab_type": "text"
      },
      "source": [
        ""
      ]
    },
    {
      "cell_type": "code",
      "metadata": {
        "id": "ab25GxHbHgRo",
        "colab_type": "code",
        "colab": {}
      },
      "source": [
        "class Pants:\n",
        "    \"\"\"\n",
        "    Pants class represents a model in the store\n",
        "    \"\"\"\n",
        "    def __init__(self, color, waist_size, length, price):\n",
        "        \"\"\"\n",
        "        Initializer for Pants objects\n",
        "\n",
        "        Attributes:\n",
        "            color - string \n",
        "            waist_size - string\n",
        "            length - string\n",
        "            price - float\n",
        "        \"\"\"\n",
        "        self.color      = color\n",
        "        self.waist_size = waist_size\n",
        "        self.length     = length\n",
        "        self.price      = price\n",
        "\n",
        "    def change_price(self, new_price):\n",
        "        \"\"\"\n",
        "        method to change the price of pants object\n",
        "\n",
        "        Args:\n",
        "            new_price - float\n",
        "\n",
        "        Returns: None\n",
        "        \"\"\"\n",
        "        self.price = new_price\n",
        "\n",
        "    def discount(self, value):      \n",
        "        \"\"\"\n",
        "        method to calcluate price after discount\n",
        "\n",
        "        Args:\n",
        "            value - float\n",
        "        Returns:\n",
        "            discounted price - float    \n",
        "        \"\"\"\n",
        "        return self.price * (1 - value)  \n"
      ],
      "execution_count": 0,
      "outputs": []
    },
    {
      "cell_type": "markdown",
      "metadata": {
        "id": "VCi00duzJr6G",
        "colab_type": "text"
      },
      "source": [
        "**Run the code cell below to check results**"
      ]
    },
    {
      "cell_type": "code",
      "metadata": {
        "id": "qDndt0s0Jtyj",
        "colab_type": "code",
        "colab": {
          "base_uri": "https://localhost:8080/",
          "height": 35
        },
        "outputId": "695f7fa7-0fe2-4116-8b5f-1abd20899a45"
      },
      "source": [
        "def check_results():\n",
        "    pants = Pants('red', 35, 36, 15.12)\n",
        "    assert pants.color == 'red'\n",
        "    assert pants.waist_size == 35\n",
        "    assert pants.length == 36\n",
        "    assert pants.price == 15.12\n",
        "    \n",
        "    pants.change_price(10) == 10\n",
        "    assert pants.price == 10 \n",
        "    \n",
        "    assert pants.discount(.1) == 9\n",
        "    \n",
        "    print('You made it to the end of the check. Nice job!')\n",
        "\n",
        "check_results()"
      ],
      "execution_count": 13,
      "outputs": [
        {
          "output_type": "stream",
          "text": [
            "You made it to the end of the check. Nice job!\n"
          ],
          "name": "stdout"
        }
      ]
    },
    {
      "cell_type": "markdown",
      "metadata": {
        "id": "yXQZSwQeLISU",
        "colab_type": "text"
      },
      "source": [
        "**Write a SalesPerson class with the following characteristics:**\n",
        "* the class name should be SalesPerson\n",
        "* the class attributes should include\n",
        "    * first_name\n",
        "    * last_name\n",
        "    * employee_id\n",
        "    * salary\n",
        "    * pants_sold\n",
        "    * total_sales\n",
        "* the class should have an init function that initializes all of the attributes\n",
        "* the class should have four methods\n",
        "    * sell_pants() a method to change the price attribute\n",
        "    * calculate_sales() a method to calculate the sales\n",
        "    * display_sales() a method to print out all the pants sold with nice formatting\n",
        "    * calculate_commission() a method to calculate the salesperson commission based on total sales and a percentage"
      ]
    },
    {
      "cell_type": "code",
      "metadata": {
        "id": "1bbu6DaULUyq",
        "colab_type": "code",
        "colab": {}
      },
      "source": [
        "class SalesPerson:\n",
        "    \"\"\"\n",
        "    provides information about the sales person in the store\n",
        "    \"\"\"\n",
        "\n",
        "    def __init__(self, first_name, last_name, employee_id, salary, pants_sold, total_sales):\n",
        "        \"\"\"\n",
        "        Initializer for salesperson object\n",
        "\n",
        "        Attributes:\n",
        "            first_name - string\n",
        "            last_name - string\n",
        "            employee_id - innt\n",
        "            salary - float\n",
        "            pants_sold - list of pant objects\n",
        "            total_sales - float\n",
        "        \"\"\"\n",
        "        self.first_name = first_name\n",
        "        self.last_name = last_name\n",
        "        self.employee_id = employee_id\n",
        "        self.salary = salary \n",
        "        self.pants_sold = []\n",
        "        self.total_sales = 0\n",
        "\n",
        "    def sell_pants(self, pants):\n",
        "        \"\"\"\n",
        "        this method recives pants object and appends to the list\n",
        "    \n",
        "        Args:\n",
        "            Pants - pants object\n",
        "\n",
        "        Returns: None     \n",
        "        \"\"\"    \n",
        "        self.pants_sold.append(pants)\n",
        "\n",
        "    def calculate_sales():\n",
        "        \"\"\"\n",
        "        This method calculates the total sales for the sales person.\n",
        "        The method should iterate through the pants_sold attribute list\n",
        "        and sum the prices of the pants sold. The sum should be stored\n",
        "        in the total_sales attribute and then return the total.\n",
        "     \n",
        "       Args:\n",
        "         None\n",
        "       Returns:\n",
        "        float: total sales\n",
        " \n",
        "        \"\"\"\n",
        "\n",
        "    def display_sales():\n",
        "        \"\"\"\n",
        "        This method has no input or outputs. When this method \n",
        "        is called, the code iterates through the pants_sold list\n",
        "        and prints out the characteristics of each pair of pants\n",
        "        line by line. The print out should look something like this\n",
        "\n",
        "        color: blue, waist_size: 34, length: 34, price: 10\n",
        "        color: red, waist_size: 36, length: 30, price: 14.15\n",
        "\n",
        "        \"\"\"\n",
        "        \n",
        "    def calculate_commission():  \n",
        "        \"\"\"\n",
        "        The salesperson receives a commission based on the total\n",
        "        sales of pants. The method receives a percentage, and then\n",
        "        calculate the total sales of pants based on the price,\n",
        "        and then returns the commission as (percentage * total sales)\n",
        "\n",
        "        Args:\n",
        "            percentage (float): comission percentage as a decimal\n",
        "\n",
        "        Returns:\n",
        "            float: total commission\n",
        "        \"\"\"      "
      ],
      "execution_count": 0,
      "outputs": []
    }
  ]
}